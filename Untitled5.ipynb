{
 "cells": [
  {
   "cell_type": "code",
   "execution_count": 4,
   "id": "2af066aa",
   "metadata": {},
   "outputs": [
    {
     "name": "stdout",
     "output_type": "stream",
     "text": [
      "1\n",
      "2\n",
      "3\n",
      "4\n",
      "5\n"
     ]
    }
   ],
   "source": [
    "alist=[1,2,3,4,5]\n",
    "for item in alist:\n",
    "    print(item)"
   ]
  },
  {
   "cell_type": "code",
   "execution_count": 11,
   "id": "67c4ed6c",
   "metadata": {},
   "outputs": [],
   "source": [
    "for i in range(0,len(alist)):\n",
    "    alist[i]=alist[i]*2"
   ]
  },
  {
   "cell_type": "code",
   "execution_count": null,
   "id": "b949a269",
   "metadata": {},
   "outputs": [],
   "source": []
  },
  {
   "cell_type": "code",
   "execution_count": 14,
   "id": "68d28b82",
   "metadata": {},
   "outputs": [
    {
     "data": {
      "text/plain": [
       "[16, 32, 48, 64, 80]"
      ]
     },
     "execution_count": 14,
     "metadata": {},
     "output_type": "execute_result"
    }
   ],
   "source": [
    "alist"
   ]
  },
  {
   "cell_type": "code",
   "execution_count": 16,
   "id": "dabd0fcd",
   "metadata": {},
   "outputs": [
    {
     "name": "stdout",
     "output_type": "stream",
     "text": [
      "1\n",
      "2\n",
      "3\n",
      "4\n",
      "5\n"
     ]
    }
   ],
   "source": [
    "alist=[1,2,3,4,5]\n",
    "for item in alist:\n",
    "    print(item)"
   ]
  },
  {
   "cell_type": "code",
   "execution_count": 22,
   "id": "92154f83",
   "metadata": {},
   "outputs": [
    {
     "name": "stdout",
     "output_type": "stream",
     "text": [
      "bikram\n",
      "bikram\n",
      "bikram\n",
      "bikram\n",
      "bikram\n",
      "bikram\n",
      "bikram\n",
      "bikram\n",
      "bikram\n"
     ]
    }
   ],
   "source": [
    "for i in range(0,9):\n",
    "    print(\"bikram\")"
   ]
  },
  {
   "cell_type": "code",
   "execution_count": 35,
   "id": "684ff652",
   "metadata": {},
   "outputs": [],
   "source": [
    "for i in range(0,len(alist)):\n",
    "    if alist[i]==2:\n",
    "        print(\"we found 2\")\n",
    "    break"
   ]
  },
  {
   "cell_type": "code",
   "execution_count": 32,
   "id": "ce2031b0",
   "metadata": {},
   "outputs": [
    {
     "name": "stdout",
     "output_type": "stream",
     "text": [
      "90\n",
      "80\n",
      "70\n",
      "60\n",
      "50\n"
     ]
    }
   ],
   "source": [
    "n=100\n",
    "while n>50:\n",
    "    n=n-10\n",
    "    print(n)"
   ]
  },
  {
   "cell_type": "code",
   "execution_count": 45,
   "id": "990c971e",
   "metadata": {},
   "outputs": [
    {
     "name": "stdout",
     "output_type": "stream",
     "text": [
      "we found 2\n"
     ]
    }
   ],
   "source": [
    "for i in range(0,len(alist)):\n",
    "    if alist[i]==2:\n",
    "        print(\"we found 2\")\n",
    "    else:\n",
    "         continue"
   ]
  },
  {
   "cell_type": "code",
   "execution_count": 48,
   "id": "62f2ab36",
   "metadata": {},
   "outputs": [
    {
     "name": "stdout",
     "output_type": "stream",
     "text": [
      "[11, 12, 13, 14, 15]\n"
     ]
    }
   ],
   "source": [
    "blist=[item+10 for item in alist]\n",
    "print(blist)"
   ]
  },
  {
   "cell_type": "code",
   "execution_count": 52,
   "id": "ded44893",
   "metadata": {},
   "outputs": [
    {
     "name": "stdout",
     "output_type": "stream",
     "text": [
      "new something\n"
     ]
    }
   ],
   "source": [
    "n=20\n",
    "if n==0:\n",
    "    print(\"something\")\n",
    "elif n>10:\n",
    "    print(\"new something\")\n",
    "else:\n",
    "    print(\"else something\")"
   ]
  },
  {
   "cell_type": "code",
   "execution_count": 54,
   "id": "93a3a230",
   "metadata": {},
   "outputs": [
    {
     "name": "stdout",
     "output_type": "stream",
     "text": [
      "enter the value of n50\n"
     ]
    }
   ],
   "source": [
    "n=input(\"enter the value of n\")"
   ]
  },
  {
   "cell_type": "code",
   "execution_count": 57,
   "id": "cc77cc96",
   "metadata": {},
   "outputs": [
    {
     "data": {
      "text/plain": [
       "str"
      ]
     },
     "execution_count": 57,
     "metadata": {},
     "output_type": "execute_result"
    }
   ],
   "source": [
    "type(n)"
   ]
  },
  {
   "cell_type": "code",
   "execution_count": 58,
   "id": "4b63c3f8",
   "metadata": {},
   "outputs": [
    {
     "data": {
      "text/plain": [
       "'50'"
      ]
     },
     "execution_count": 58,
     "metadata": {},
     "output_type": "execute_result"
    }
   ],
   "source": [
    "n"
   ]
  }
 ],
 "metadata": {
  "kernelspec": {
   "display_name": "Python 3 (ipykernel)",
   "language": "python",
   "name": "python3"
  },
  "language_info": {
   "codemirror_mode": {
    "name": "ipython",
    "version": 3
   },
   "file_extension": ".py",
   "mimetype": "text/x-python",
   "name": "python",
   "nbconvert_exporter": "python",
   "pygments_lexer": "ipython3",
   "version": "3.9.12"
  }
 },
 "nbformat": 4,
 "nbformat_minor": 5
}
